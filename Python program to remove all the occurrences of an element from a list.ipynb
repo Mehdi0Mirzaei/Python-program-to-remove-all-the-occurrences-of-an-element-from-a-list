{
 "cells": [
  {
   "cell_type": "code",
   "execution_count": 13,
   "id": "0488c128",
   "metadata": {},
   "outputs": [],
   "source": [
    "lst2=[1,2,2,2,3,4,5,6,4,7,7,8,9,4,5]"
   ]
  },
  {
   "cell_type": "code",
   "execution_count": 10,
   "id": "3b96142a",
   "metadata": {},
   "outputs": [
    {
     "name": "stdout",
     "output_type": "stream",
     "text": [
      "The original list is : [1, 2, 2, 2, 3, 4, 5, 6, 4, 7, 7, 8, 9, 4, 5]\n",
      "The list after performing the remove operation is : [1, 3, 4, 5, 6, 4, 7, 7, 8, 9, 4, 5]\n"
     ]
    }
   ],
   "source": [
    "def remove_items(test_list, item):\n",
    "  # using list comprehension to perform the task\n",
    "    res = [i for i in test_list if i != item]\n",
    "    return res\n",
    "  \n",
    "# driver code\n",
    "if __name__ == \"__main__\":\n",
    "    test_list = [1,2,2,2,3,4,5,6,4,7,7,8,9,4,5]\n",
    "    # the item which is to be removed\n",
    "    item = 2\n",
    "    print(\"The original list is : \" + str(test_list))\n",
    "  # calling the function remove_items()\n",
    "    res = remove_items(test_list, item)\n",
    "  # printing result\n",
    "    print(\"The list after performing the remove operation is : \" + str(res))"
   ]
  },
  {
   "cell_type": "code",
   "execution_count": 16,
   "id": "f4a915af",
   "metadata": {},
   "outputs": [
    {
     "name": "stdout",
     "output_type": "stream",
     "text": [
      "The original list is : [1, 2, 2, 2, 3, 4, 5, 6, 4, 7, 7, 8, 9, 4, 5]\n",
      "The list after performing the remove operation is : [1, 2, 2, 2, 3, 4, 5, 6, 4, 8, 9, 4, 5]\n"
     ]
    }
   ],
   "source": [
    "def remove_items(test_list, item):\n",
    "  # using filter() + __ne__ to perform the task\n",
    "    res = list(filter((item).__ne__, test_list))\n",
    "    return res\n",
    "# driver code\n",
    "if __name__ == \"__main__\":\n",
    "    test_list = [1, 2, 2, 2, 3, 4, 5, 6, 4, 7, 7, 8, 9, 4, 5]\n",
    "    item = 7\n",
    "    # printing the original list\n",
    "    print(\"The original list is : \" + str(test_list))\n",
    "  # calling the function remove_items()\n",
    "    res = remove_items(test_list, item)\n",
    "  # printing result\n",
    "    print(\"The list after performing the remove operation is : \" + str(res))"
   ]
  },
  {
   "cell_type": "code",
   "execution_count": 17,
   "id": "c314f5da",
   "metadata": {},
   "outputs": [
    {
     "name": "stdout",
     "output_type": "stream",
     "text": [
      "The original list is :[1, 2, 2, 2, 3, 4, 5, 6, 4, 7, 7, 8, 9, 4, 5]\n",
      "The list after performing the remove operation is :[1, 2, 2, 2, 3, 4, 6, 4, 7, 7, 8, 9, 4]\n"
     ]
    }
   ],
   "source": [
    "def remove_items(test_list, item):\n",
    "    # remove the item for all its occurrences\n",
    "    c = test_list.count(item)\n",
    "    for i in range(c):\n",
    "        test_list.remove(item)\n",
    "    return test_list\n",
    "    \n",
    "# driver code\n",
    "if __name__ == \"__main__\":\n",
    "    test_list = [1, 2, 2, 2, 3, 4, 5, 6, 4, 7, 7, 8, 9, 4, 5]\n",
    "    item = 5\n",
    "    # printing the original list\n",
    "    print(\"The original list is :\" + str(test_list))\n",
    "  # calling the function remove_items()\n",
    "    res = remove_items(test_list, item)\n",
    "  # printing result\n",
    "    print(\"The list after performing the remove operation is :\" + str(res))"
   ]
  },
  {
   "cell_type": "code",
   "execution_count": 18,
   "id": "1839081a",
   "metadata": {},
   "outputs": [
    {
     "name": "stdout",
     "output_type": "stream",
     "text": [
      "[1, 3, 4, 5, 6, 4, 7, 7, 8, 9, 4, 5]\n"
     ]
    }
   ],
   "source": [
    "test_list = [1, 2, 2, 2, 3, 4, 5, 6, 4, 7, 7, 8, 9, 4, 5]\n",
    "ele=2\n",
    "a=list(map(str,test_list))\n",
    "b=\" \".join(a)\n",
    "b=b.replace(str(ele),\"\")\n",
    "b=b.split()\n",
    "x=list(map(int,b))\n",
    "print(x)"
   ]
  },
  {
   "cell_type": "code",
   "execution_count": 19,
   "id": "dc334535",
   "metadata": {},
   "outputs": [
    {
     "name": "stdout",
     "output_type": "stream",
     "text": [
      "[1, 2, 2, 2, 3, 4, 6, 4, 7, 7, 8, 9, 4]\n"
     ]
    }
   ],
   "source": [
    "test_list = [1, 2, 2, 2, 3, 4, 5, 6, 4, 7, 7, 8, 9, 4, 5]\n",
    "ele=5 \n",
    "x=[j for i,j in enumerate(test_list) if j!=ele] \n",
    "print(x)"
   ]
  },
  {
   "cell_type": "code",
   "execution_count": null,
   "id": "3a37ef9e",
   "metadata": {},
   "outputs": [],
   "source": []
  }
 ],
 "metadata": {
  "kernelspec": {
   "display_name": "Python 3 (ipykernel)",
   "language": "python",
   "name": "python3"
  },
  "language_info": {
   "codemirror_mode": {
    "name": "ipython",
    "version": 3
   },
   "file_extension": ".py",
   "mimetype": "text/x-python",
   "name": "python",
   "nbconvert_exporter": "python",
   "pygments_lexer": "ipython3",
   "version": "3.9.13"
  }
 },
 "nbformat": 4,
 "nbformat_minor": 5
}
